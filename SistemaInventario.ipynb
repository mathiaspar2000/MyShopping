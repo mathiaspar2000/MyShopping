{
 "cells": [
  {
   "cell_type": "code",
   "execution_count": 17,
   "id": "01007259-cfd7-4a2b-a021-1a7acec8248c",
   "metadata": {},
   "outputs": [
    {
     "name": "stdout",
     "output_type": "stream",
     "text": [
      "{'idProducto': '7', 'Nombre': 'Mochila', 'Precio': '12', 'Cantidad': '2'}\n",
      "{'idProducto': '9', 'Nombre': 'Ventilador', 'Precio': '12', 'Cantidad': '3'}\n"
     ]
    }
   ],
   "source": [
    "import csv\n",
    "\n",
    "def read_csv(file_path):\n",
    "    orders = []\n",
    "    with open(file_path, mode='r') as file:\n",
    "        csv_reader = csv.DictReader(file)\n",
    "        for row in csv_reader:\n",
    "            orders.append(row)\n",
    "    return orders\n",
    "\n",
    "# Ejemplo de uso:\n",
    "file_path = 'D:\\\\Chrome download\\\\CSV Downloads\\\\Reporte210620241056.csv'  # Asegúrate de que el archivo CSV esté en el mismo directorio que este script o proporciona la ruta completa.\n",
    "orders = read_csv(file_path)\n",
    "for order in orders:\n",
    "    print(order)"
   ]
  },
  {
   "cell_type": "code",
   "execution_count": 13,
   "id": "a07f2a7d-988d-41cf-b78c-7027eb3e61fd",
   "metadata": {
    "scrolled": true
   },
   "outputs": [],
   "source": [
    "import pyodbc\n",
    "import csv\n",
    "\n",
    "def read_csv(file_path):\n",
    "    orders = []\n",
    "    with open(file_path, mode='r') as file:\n",
    "        csv_reader = csv.DictReader(file)\n",
    "        for row in csv_reader:\n",
    "            orders.append(row)\n",
    "    return orders\n",
    "\n",
    "def update_inventory(orders):\n",
    "    conn = pyodbc.connect('DRIVER={ODBC Driver 17 for SQL Server};'\n",
    "                          'SERVER=DESKTOP-61QG658;'\n",
    "                          'DATABASE=myshopping;'\n",
    "                          'Trusted_Connection=yes;')\n",
    "    cursor = conn.cursor()\n",
    "    \n",
    "    for order in orders:\n",
    "        product_id = int(order['product_id'])\n",
    "        quantity = int(order['quantity'])\n",
    "        \n",
    "        cursor.execute(\"SELECT stock FROM inventory WHERE product_id = ?\", product_id)\n",
    "        result = cursor.fetchone()\n",
    "        if result:\n",
    "            new_stock = result[0] - quantity\n",
    "            cursor.execute(\"UPDATE inventory SET stock = ? WHERE product_id = ?\", new_stock, product_id)\n",
    "    \n",
    "    conn.commit()\n",
    "    conn.close()\n",
    "\n",
    "# Ejemplo de uso:\n",
    "file_path = 'D:\\\\Chrome download\\\\CSV Downloads\\\\Reporte2106202410555.csv'  # Asegúrate de proporcionar la ruta correcta\n",
    "orders = read_csv(file_path)\n",
    "update_inventory(orders)\n"
   ]
  },
  {
   "cell_type": "code",
   "execution_count": 10,
   "id": "e38767af-6d52-4b51-8c6c-e9f94ca8c8ca",
   "metadata": {},
   "outputs": [],
   "source": [
    "import pyodbc\n",
    "import csv\n",
    "\n",
    "def read_csv(file_path):\n",
    "    orders = []\n",
    "    with open(file_path, mode='r') as file:\n",
    "        csv_reader = csv.DictReader(file)\n",
    "        for row in csv_reader:\n",
    "            orders.append(row)\n",
    "    return orders\n",
    "\n",
    "def update_inventory(orders):\n",
    "    conn = pyodbc.connect('DRIVER={ODBC Driver 17 for SQL Server};'\n",
    "                          'SERVER=DESKTOP-61QG658;'\n",
    "                          'DATABASE=myshopping;'\n",
    "                          'Trusted_Connection=yes;')\n",
    "    cursor = conn.cursor()\n",
    "    \n",
    "    for order in orders:\n",
    "        product_id = int(order['product_id'])\n",
    "        quantity = int(order['quantity'])\n",
    "        \n",
    "        cursor.execute(\"SELECT stock FROM inventory WHERE product_id = ?\", product_id)\n",
    "        result = cursor.fetchone()\n",
    "        if result:\n",
    "            new_stock = result[0] - quantity\n",
    "            cursor.execute(\"UPDATE inventory SET stock = ? WHERE product_id = ?\", new_stock, product_id)\n",
    "    \n",
    "    conn.commit()\n",
    "    conn.close()\n",
    "\n",
    "# Ejemplo de uso:\n",
    "file_path = 'D:\\\\Chrome download\\\\CSV Downloads\\\\Reporte2106202410555.csv'  # Asegúrate de proporcionar la ruta correcta\n",
    "orders = read_csv(file_path)\n",
    "update_inventory(orders)\n"
   ]
  },
  {
   "cell_type": "code",
   "execution_count": null,
   "id": "55bd51ee-433f-4d42-a027-4f994cd40423",
   "metadata": {},
   "outputs": [],
   "source": []
  },
  {
   "cell_type": "code",
   "execution_count": null,
   "id": "8ee4d987-ac0f-4ebd-86bd-51b0e7218ab8",
   "metadata": {},
   "outputs": [],
   "source": []
  }
 ],
 "metadata": {
  "kernelspec": {
   "display_name": "Python 3 (ipykernel)",
   "language": "python",
   "name": "python3"
  },
  "language_info": {
   "codemirror_mode": {
    "name": "ipython",
    "version": 3
   },
   "file_extension": ".py",
   "mimetype": "text/x-python",
   "name": "python",
   "nbconvert_exporter": "python",
   "pygments_lexer": "ipython3",
   "version": "3.11.7"
  }
 },
 "nbformat": 4,
 "nbformat_minor": 5
}
